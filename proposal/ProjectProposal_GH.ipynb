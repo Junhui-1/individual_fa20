{
 "cells": [
  {
   "cell_type": "markdown",
   "metadata": {},
   "source": [
    "# COGS 108 - Project Proposal"
   ]
  },
  {
   "cell_type": "markdown",
   "metadata": {},
   "source": [
    "# Names & GitHub ID\n",
    "\n",
    "- Name: Junhui Fan\n",
    "- GitHub Username: Junhui-1"
   ]
  },
  {
   "cell_type": "markdown",
   "metadata": {},
   "source": [
    "# Research Question"
   ]
  },
  {
   "cell_type": "markdown",
   "metadata": {},
   "source": [
    "What is the relationship between yelp comment numbers and yelp ratings of San Diego parks? What factors of San Diego parks (e.g., facilities, staff) are important to visitor experience?"
   ]
  },
  {
   "cell_type": "markdown",
   "metadata": {},
   "source": [
    "## Background and Prior Work"
   ]
  },
  {
   "cell_type": "markdown",
   "metadata": {},
   "source": [
    "Parks, as public spaces, are used to serve people for playing, relaxing, communicating, and exercising. Providing satisfying experiences to visitors is regarded as an essential purpose for park managers. Therefore, factors that affect visitor experience should be measured so park managers can be directed to improve visitor satisfaction. McGuire and Dottavio (1989), using the post hoc method, studied three state parks in Montana and found that the upkeep of park facilities and ground and park staff are mostly attributed to visitor satisfaction. Fletcher and Fletcher (2003) conducted surveys of 25 parks in Florida and indicated that \"visitor satisfaction is strongly related to maintenance of the park and to behaviors of park personnel. The two research encourage me to hypothesize that the factors of SD parks influencing visitor experience should be similar to the factors concluded by them. \n",
    "\n",
    "Besides, the relationship between yelp review numbers and yelp average ratings are also worth considering. Review numbers and scores are often regarded as correlated. The number of online comments often indicates the quality of online merchandise (Arnould & Thompson). The number of comments on YouTube videos also demonstrates the quality of the videos (Siersdorfer, Nejdl & San Pedro). If parks have provided high-quality visitor experiences, visitors are expected to leave comments on social media to express their praise. Conversely, parks with lots of comments on social media should be an indicator to park reputation and quality. Therefore, I want to use yelp data to calculate the correlation between comment numbers and ratings of SD parks to test my hypothesis.\n",
    "\n",
    "\n",
    "References (include links):\n",
    "- 1) McGuire, F.A., O’Leary, J.T., & Dottavio, F.D. (1989). Journal of Park and Recreation Administration, 7(3), 24-33.\n",
    "\n",
    "- 2)Fletcher, Donna & Fletcher, Harold. (2003). Manageable Predictors of Park Visitor Satisfaction: Maintenance and Personnel. Journal of Park and Recreation Administration, 21(1), 21-37.\n",
    "http://staff.washington.edu/kwolf/Archive/Classes/ESRM304_SocSci/304%20Soc%20Sci%20Lab%20Articles/Fletcher_2003.pdf\n",
    "\n",
    "- 3)Arnould, E. and Thompson, C. (2005). Consumer culture theory (CCT): Twenty years of research. J. Consum. Resear. 31, 868--882.\n",
    "\n",
    "- 4)Siersdorfer, Stefan., Nejdl, Wolfgang & San Pedro, Jose. (2010). How useful are your comments? Analyzing and predicting YouTube comments and comment ratings. "
   ]
  },
  {
   "cell_type": "markdown",
   "metadata": {},
   "source": [
    "# Hypothesis\n"
   ]
  },
  {
   "cell_type": "markdown",
   "metadata": {},
   "source": [
    "I hypothesize that there is a positive correlation between yelp comment numbers and yelp ratings of SD parks. This is because the quality of parks is generally measured by the popularity of parks, and the popularity of parks is generally measured by the comment numbers.\n",
    "\n",
    "In addition, I hypothesize that the facilities, staff and maintenance of San Diego parks are key factors to visitor experience. Researches above investigated considerable amount of state parks and concluded park facilities, staff and maintenance are strongly related to visitor satisfication. Thus, I suppose my analysis of yelp review data of SD parks should generate similar results compared to the researches."
   ]
  },
  {
   "cell_type": "markdown",
   "metadata": {},
   "source": [
    "# Data"
   ]
  },
  {
   "cell_type": "markdown",
   "metadata": {},
   "source": [
    "The ideal dataset should include the following variables: names of SD parks, personal ratings of SD parks (based on self-administrated surveys questioning), and personal comments of SD parks (as answers to the open-ended question). The number of observations is expected to be 5000 or more. The observation subjects should be people who visited SD parks. The data would be designed and gathered by park staff. The data would be distributed through online surveys via email to people who visited SD parks. The data should be organized into csv/xml.\n",
    "\n",
    "The following datasets are provided by the instructor. They are from yelp endpoint.\n",
    "\n",
    "\n",
    "- Dataset Name: yelp_SD_parks\n",
    "- Link to the dataset: https://www.yelp.com/developers/documentation/v3/business_search\n",
    "- Number of observations: There are 833 parks in total.\n",
    "- Description: This data provides general information of San Diego parks, such as name and address, the average yelp rating for SD parks, and amount of review of SD parks.\n",
    "\n",
    "\n",
    "\n",
    "- Dataset Name: yelp_SD_reviews\n",
    "- Link to the dataset: https://www.yelp.com/developers/documentation/v3/business_reviews\n",
    "- Number of observations: There are 2333 reviews in total.\n",
    "- Description: This data provides SD park names, yelp user rating, and yelp user comment on SD parks."
   ]
  },
  {
   "cell_type": "markdown",
   "metadata": {},
   "source": [
    "# Ethics & Privacy"
   ]
  },
  {
   "cell_type": "markdown",
   "metadata": {},
   "source": [
    "The two yelp data are available to the public, so removing personal information is needed. For the yelp comment data, any personal information has been removed before I obtain the data; the variables left are only park ids, yelp user ratings, and yelp user comments. For the yelp park data, park addresses, contact phones, and websites are regarded as public information. As this project does not need them, they are dropped for convenience. Therefore, the worry about privacy for the datasets is scarcely any.\n",
    "\n",
    "Regarding the samples of the two datasets, there is sampling bias in yelp comments and ratings. Yelp reviews and ratings are not representative samples for the entire population (people who visited SD parks). Some people may have satisfactions or dissatisfactions about the SD parks but do not leave comments and ratings on yelp. The bias for voluntarily online comments is unavoidable, and analyzing the data may not accurately demonstrate true results. If applicable, the datasets should be gathered by online surveys clearly asking about factors that influence visitor experience. The yelp park comments are not highly reliable to analyze factors that affect visitor satisfaction.\n",
    "\n",
    "In addition, interpreting the results of my analysis should be taken into consideration. The data represents SD park ratings and reviews on yelp, instead of the park ratings and reviews all over the country or on all social media platforms. As a result, my analysis is only applicable to SD parks and reviews on yelp. Any extended application is misleading and inconclusive, which is unethical."
   ]
  }
 ],
 "metadata": {
  "kernelspec": {
   "display_name": "Python 3",
   "language": "python",
   "name": "python3"
  },
  "language_info": {
   "codemirror_mode": {
    "name": "ipython",
    "version": 3
   },
   "file_extension": ".py",
   "mimetype": "text/x-python",
   "name": "python",
   "nbconvert_exporter": "python",
   "pygments_lexer": "ipython3",
   "version": "3.7.6"
  }
 },
 "nbformat": 4,
 "nbformat_minor": 2
}
