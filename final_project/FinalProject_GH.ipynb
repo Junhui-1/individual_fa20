{
 "cells": [
  {
   "cell_type": "markdown",
   "metadata": {},
   "source": [
    "# COGS 108 - Final Project "
   ]
  },
  {
   "cell_type": "markdown",
   "metadata": {},
   "source": [
    "# Overview"
   ]
  },
  {
   "cell_type": "markdown",
   "metadata": {},
   "source": [
    "*Fill in your overview here*"
   ]
  },
  {
   "cell_type": "markdown",
   "metadata": {},
   "source": [
    "# Name & GitHub\n",
    "\n",
    "- Name: Junhui Fan\n",
    "- GitHub Username: TheGOATffffffff"
   ]
  },
  {
   "cell_type": "markdown",
   "metadata": {},
   "source": [
    "# Research Question"
   ]
  },
  {
   "cell_type": "markdown",
   "metadata": {},
   "source": [
    "*Fill in your research question here*"
   ]
  },
  {
   "cell_type": "markdown",
   "metadata": {},
   "source": [
    "## Background and Prior Work"
   ]
  },
  {
   "cell_type": "markdown",
   "metadata": {},
   "source": [
    "*Fill in your background and prior work here* \n",
    "\n",
    "References (include links):\n",
    "- 1)\n",
    "- 2)"
   ]
  },
  {
   "cell_type": "markdown",
   "metadata": {},
   "source": [
    "# Hypothesis\n"
   ]
  },
  {
   "cell_type": "markdown",
   "metadata": {},
   "source": [
    "*Fill in your hypotheses here*"
   ]
  },
  {
   "cell_type": "markdown",
   "metadata": {},
   "source": [
    "# Dataset(s)"
   ]
  },
  {
   "cell_type": "markdown",
   "metadata": {},
   "source": [
    "*Fill in your dataset information here*\n",
    "\n",
    "(Copy this information for each dataset)\n",
    "- Dataset Name:\n",
    "- Link to the dataset:\n",
    "- Number of observations:\n",
    "\n",
    "1-2 sentences describing each dataset. \n",
    "\n",
    "If you plan to use multiple datasets, add 1-2 sentences about how you plan to combine these datasets."
   ]
  },
  {
   "cell_type": "markdown",
   "metadata": {},
   "source": [
    "# Setup"
   ]
  },
  {
   "cell_type": "code",
   "execution_count": 1,
   "metadata": {},
   "outputs": [],
   "source": [
    "#Imports\n",
    "# Imports - these are all the imports needed for the assignment\n",
    "%matplotlib inline\n",
    "\n",
    "import numpy as np\n",
    "import pandas as pd\n",
    "import matplotlib.pyplot as plt\n",
    "\n",
    "# Import nltk package \n",
    "#   PennTreeBank word tokenizer \n",
    "#   English language stopwords\n",
    "import nltk\n",
    "from nltk.tokenize import word_tokenize\n",
    "from nltk.corpus import stopwords\n",
    "\n",
    "import warnings\n",
    "warnings.filterwarnings('ignore')\n",
    "\n",
    "# scikit-learn imports\n",
    "#   SVM (Support Vector Machine) classifer \n",
    "#   Vectorizer, which transforms text data into bag-of-words feature\n",
    "#   TF-IDF Vectorizer that first removes widely used words in the dataset and then transforms test data\n",
    "#   Metrics functions to evaluate performance\n",
    "from sklearn.svm import SVC\n",
    "from sklearn.feature_extraction.text import CountVectorizer, TfidfVectorizer\n",
    "from sklearn.metrics import classification_report, precision_recall_fscore_support"
   ]
  },
  {
   "cell_type": "code",
   "execution_count": 2,
   "metadata": {},
   "outputs": [],
   "source": [
    "#Read Data\n",
    "df_park = pd.read_csv('yelp_SD_reviews.csv')\n",
    "df_park_review = pd.read_csv('yelp_SD_parks.csv')\n",
    "df_CA_envir_hlth = pd.read_csv('calenviroscreen-final-report.csv')"
   ]
  },
  {
   "cell_type": "code",
   "execution_count": 3,
   "metadata": {},
   "outputs": [
    {
     "data": {
      "text/html": [
       "<div>\n",
       "<style scoped>\n",
       "    .dataframe tbody tr th:only-of-type {\n",
       "        vertical-align: middle;\n",
       "    }\n",
       "\n",
       "    .dataframe tbody tr th {\n",
       "        vertical-align: top;\n",
       "    }\n",
       "\n",
       "    .dataframe thead th {\n",
       "        text-align: right;\n",
       "    }\n",
       "</style>\n",
       "<table border=\"1\" class=\"dataframe\">\n",
       "  <thead>\n",
       "    <tr style=\"text-align: right;\">\n",
       "      <th></th>\n",
       "      <th>name</th>\n",
       "      <th>address</th>\n",
       "      <th>phone</th>\n",
       "      <th>id</th>\n",
       "      <th>url</th>\n",
       "      <th>rating</th>\n",
       "      <th>review_count</th>\n",
       "      <th>longitude</th>\n",
       "      <th>latitude</th>\n",
       "      <th>is_closed</th>\n",
       "    </tr>\n",
       "  </thead>\n",
       "  <tbody>\n",
       "    <tr>\n",
       "      <th>0</th>\n",
       "      <td>Balboa Park</td>\n",
       "      <td>1549 El Prado San Diego, CA 92101</td>\n",
       "      <td>1.619239e+10</td>\n",
       "      <td>9M_FW_-Ipx93I36w-_ykBg</td>\n",
       "      <td>https://www.yelp.com/biz/balboa-park-san-diego...</td>\n",
       "      <td>5.0</td>\n",
       "      <td>2105</td>\n",
       "      <td>-117.153150</td>\n",
       "      <td>32.734502</td>\n",
       "      <td>False</td>\n",
       "    </tr>\n",
       "    <tr>\n",
       "      <th>1</th>\n",
       "      <td>Civita Park</td>\n",
       "      <td>7960 Civita Blvd San Diego, CA 92108</td>\n",
       "      <td>NaN</td>\n",
       "      <td>3AEHjqNrTmggA6G9VdhQfg</td>\n",
       "      <td>https://www.yelp.com/biz/civita-park-san-diego...</td>\n",
       "      <td>4.5</td>\n",
       "      <td>46</td>\n",
       "      <td>-117.147278</td>\n",
       "      <td>32.778315</td>\n",
       "      <td>False</td>\n",
       "    </tr>\n",
       "    <tr>\n",
       "      <th>2</th>\n",
       "      <td>Waterfront Park</td>\n",
       "      <td>1600 Pacific Hwy San Diego, CA 92101</td>\n",
       "      <td>1.619233e+10</td>\n",
       "      <td>3unbJeYrn1RmInZGmjp80g</td>\n",
       "      <td>https://www.yelp.com/biz/waterfront-park-san-d...</td>\n",
       "      <td>4.5</td>\n",
       "      <td>242</td>\n",
       "      <td>-117.172479</td>\n",
       "      <td>32.721952</td>\n",
       "      <td>False</td>\n",
       "    </tr>\n",
       "    <tr>\n",
       "      <th>3</th>\n",
       "      <td>Trolley Barn Park</td>\n",
       "      <td>Adams Ave And Florida St San Diego, CA 92116</td>\n",
       "      <td>NaN</td>\n",
       "      <td>PvHxIYrmaiFKdWUDTMDzcg</td>\n",
       "      <td>https://www.yelp.com/biz/trolley-barn-park-san...</td>\n",
       "      <td>4.5</td>\n",
       "      <td>102</td>\n",
       "      <td>-117.143789</td>\n",
       "      <td>32.762463</td>\n",
       "      <td>False</td>\n",
       "    </tr>\n",
       "    <tr>\n",
       "      <th>4</th>\n",
       "      <td>Bay View Park</td>\n",
       "      <td>413 1st St Coronado, CA 92118</td>\n",
       "      <td>NaN</td>\n",
       "      <td>6IF4VB9-fkv_F-LBvG8ppQ</td>\n",
       "      <td>https://www.yelp.com/biz/bay-view-park-coronad...</td>\n",
       "      <td>5.0</td>\n",
       "      <td>42</td>\n",
       "      <td>-117.178967</td>\n",
       "      <td>32.701785</td>\n",
       "      <td>False</td>\n",
       "    </tr>\n",
       "  </tbody>\n",
       "</table>\n",
       "</div>"
      ],
      "text/plain": [
       "                name                                       address  \\\n",
       "0        Balboa Park             1549 El Prado San Diego, CA 92101   \n",
       "1        Civita Park          7960 Civita Blvd San Diego, CA 92108   \n",
       "2    Waterfront Park          1600 Pacific Hwy San Diego, CA 92101   \n",
       "3  Trolley Barn Park  Adams Ave And Florida St San Diego, CA 92116   \n",
       "4      Bay View Park                 413 1st St Coronado, CA 92118   \n",
       "\n",
       "          phone                      id  \\\n",
       "0  1.619239e+10  9M_FW_-Ipx93I36w-_ykBg   \n",
       "1           NaN  3AEHjqNrTmggA6G9VdhQfg   \n",
       "2  1.619233e+10  3unbJeYrn1RmInZGmjp80g   \n",
       "3           NaN  PvHxIYrmaiFKdWUDTMDzcg   \n",
       "4           NaN  6IF4VB9-fkv_F-LBvG8ppQ   \n",
       "\n",
       "                                                 url  rating  review_count  \\\n",
       "0  https://www.yelp.com/biz/balboa-park-san-diego...     5.0          2105   \n",
       "1  https://www.yelp.com/biz/civita-park-san-diego...     4.5            46   \n",
       "2  https://www.yelp.com/biz/waterfront-park-san-d...     4.5           242   \n",
       "3  https://www.yelp.com/biz/trolley-barn-park-san...     4.5           102   \n",
       "4  https://www.yelp.com/biz/bay-view-park-coronad...     5.0            42   \n",
       "\n",
       "    longitude   latitude  is_closed  \n",
       "0 -117.153150  32.734502      False  \n",
       "1 -117.147278  32.778315      False  \n",
       "2 -117.172479  32.721952      False  \n",
       "3 -117.143789  32.762463      False  \n",
       "4 -117.178967  32.701785      False  "
      ]
     },
     "execution_count": 3,
     "metadata": {},
     "output_type": "execute_result"
    }
   ],
   "source": [
    "df_park_review.head()"
   ]
  },
  {
   "cell_type": "code",
   "execution_count": 4,
   "metadata": {},
   "outputs": [],
   "source": [
    "df_CA_envir_hlth = df_CA_envir_hlth.drop(columns = ['Age', 'Age Pctl', 'Asthma', 'Asthma Pctl', \n",
    "                                 'Low Birth Weight','Low Birth Weight Pctl', 'Education', 'Education Pctl',\n",
    "                                 'Linguistic Isolation', 'Linguistic Isolation Pctl', 'Poverty',\n",
    "                                 'Poverty Pctl', 'Unemployment', 'Unemployment Pctl', 'Pop. Char. ',\n",
    "                                 'Pop. Char. Score', 'Pop. Char. Pctl','Total Population', \n",
    "                                'Click for interactive map', 'Hyperlink', 'CES 2.0 Percentile Range', \n",
    "                                'Ozone Pctl', 'Diesel PM Pctl','Drinking Water Pctl', 'Pesticides Pctl',\n",
    "                                'Tox. Release Pctl','Traffic', 'Traffic Pctl', 'Cleanup Sites Pctl', \n",
    "                                'Groundwater Threats Pctl','Haz. Waste Pctl', 'Imp. Water Bodies Pctl', \n",
    "                                'Solid Waste Pctl', 'Pollution Burden','Pollution Burden Pctl'])"
   ]
  },
  {
   "cell_type": "code",
   "execution_count": 5,
   "metadata": {},
   "outputs": [
    {
     "data": {
      "text/plain": [
       "Index(['Census Tract', 'California County', 'CES 2.0 Score', 'Ozone', 'PM2.5',\n",
       "       'PM2.5 Pctl', 'Diesel PM', 'Drinking Water', 'Pesticides',\n",
       "       'Tox. Release', 'Cleanup Sites', 'Groundwater Threats', 'Haz. Waste',\n",
       "       'Imp. Water Bodies', 'Solid Waste', 'Pollution Burden Score',\n",
       "       'Location 1'],\n",
       "      dtype='object')"
      ]
     },
     "execution_count": 5,
     "metadata": {},
     "output_type": "execute_result"
    }
   ],
   "source": [
    "df_CA_envir_hlth.columns"
   ]
  },
  {
   "cell_type": "markdown",
   "metadata": {},
   "source": [
    "# Data Cleaning"
   ]
  },
  {
   "cell_type": "markdown",
   "metadata": {},
   "source": [
    "Describe your data cleaning steps here."
   ]
  },
  {
   "cell_type": "code",
   "execution_count": 6,
   "metadata": {},
   "outputs": [
    {
     "data": {
      "text/html": [
       "<div>\n",
       "<style scoped>\n",
       "    .dataframe tbody tr th:only-of-type {\n",
       "        vertical-align: middle;\n",
       "    }\n",
       "\n",
       "    .dataframe tbody tr th {\n",
       "        vertical-align: top;\n",
       "    }\n",
       "\n",
       "    .dataframe thead th {\n",
       "        text-align: right;\n",
       "    }\n",
       "</style>\n",
       "<table border=\"1\" class=\"dataframe\">\n",
       "  <thead>\n",
       "    <tr style=\"text-align: right;\">\n",
       "      <th></th>\n",
       "      <th>name</th>\n",
       "      <th>personal_rating</th>\n",
       "      <th>comment</th>\n",
       "    </tr>\n",
       "  </thead>\n",
       "  <tbody>\n",
       "    <tr>\n",
       "      <th>0</th>\n",
       "      <td>Balboa Park</td>\n",
       "      <td>5</td>\n",
       "      <td>Balboa Park is a must see when coming to San D...</td>\n",
       "    </tr>\n",
       "    <tr>\n",
       "      <th>1</th>\n",
       "      <td>Balboa Park</td>\n",
       "      <td>5</td>\n",
       "      <td>Beautiful grounds even to take a stroll during...</td>\n",
       "    </tr>\n",
       "    <tr>\n",
       "      <th>2</th>\n",
       "      <td>Balboa Park</td>\n",
       "      <td>5</td>\n",
       "      <td>Beautiful sightseeing in San Diego. Lots of wa...</td>\n",
       "    </tr>\n",
       "    <tr>\n",
       "      <th>3</th>\n",
       "      <td>Civita Park</td>\n",
       "      <td>5</td>\n",
       "      <td>Was invited to child's B-Day party pre Covid-1...</td>\n",
       "    </tr>\n",
       "    <tr>\n",
       "      <th>4</th>\n",
       "      <td>Civita Park</td>\n",
       "      <td>5</td>\n",
       "      <td>Pretty nice park, beautiful design.  Anyone is...</td>\n",
       "    </tr>\n",
       "  </tbody>\n",
       "</table>\n",
       "</div>"
      ],
      "text/plain": [
       "          name  personal_rating  \\\n",
       "0  Balboa Park                5   \n",
       "1  Balboa Park                5   \n",
       "2  Balboa Park                5   \n",
       "3  Civita Park                5   \n",
       "4  Civita Park                5   \n",
       "\n",
       "                                             comment  \n",
       "0  Balboa Park is a must see when coming to San D...  \n",
       "1  Beautiful grounds even to take a stroll during...  \n",
       "2  Beautiful sightseeing in San Diego. Lots of wa...  \n",
       "3  Was invited to child's B-Day party pre Covid-1...  \n",
       "4  Pretty nice park, beautiful design.  Anyone is...  "
      ]
     },
     "execution_count": 6,
     "metadata": {},
     "output_type": "execute_result"
    }
   ],
   "source": [
    "## YOUR CODE HERE\n",
    "## FEEL FREE TO ADD MULTIPLE CELLS PER SECTION\n",
    "\n",
    "#rename variables in df_park\n",
    "df_park.rename(columns={'id': 'name', 'rating': 'personal_rating', 'text':'comment'}, inplace=True)\n",
    "df_park.head()"
   ]
  },
  {
   "cell_type": "code",
   "execution_count": 27,
   "metadata": {},
   "outputs": [
    {
     "data": {
      "text/plain": [
       "1"
      ]
     },
     "execution_count": 27,
     "metadata": {},
     "output_type": "execute_result"
    }
   ],
   "source": [
    "df_park_review.head()\n",
    "df_park_review['review_count'].min()"
   ]
  },
  {
   "cell_type": "code",
   "execution_count": 7,
   "metadata": {},
   "outputs": [],
   "source": [
    "#rename variables in df_park_review\n",
    "df_park_review.rename(columns = {'rating': 'avg_rating'},inplace=True)\n",
    "#drop variables in df_park_review which I will not analyze\n",
    "df_park_review = df_park_review.drop(columns = ['phone', 'url', 'longitude', 'latitude', 'is_closed', 'id'])"
   ]
  },
  {
   "cell_type": "code",
   "execution_count": 8,
   "metadata": {},
   "outputs": [
    {
     "data": {
      "text/html": [
       "<div>\n",
       "<style scoped>\n",
       "    .dataframe tbody tr th:only-of-type {\n",
       "        vertical-align: middle;\n",
       "    }\n",
       "\n",
       "    .dataframe tbody tr th {\n",
       "        vertical-align: top;\n",
       "    }\n",
       "\n",
       "    .dataframe thead th {\n",
       "        text-align: right;\n",
       "    }\n",
       "</style>\n",
       "<table border=\"1\" class=\"dataframe\">\n",
       "  <thead>\n",
       "    <tr style=\"text-align: right;\">\n",
       "      <th></th>\n",
       "      <th>name</th>\n",
       "      <th>avg_rating</th>\n",
       "      <th>personal_rating</th>\n",
       "      <th>comment</th>\n",
       "      <th>review_count</th>\n",
       "      <th>address</th>\n",
       "    </tr>\n",
       "  </thead>\n",
       "  <tbody>\n",
       "    <tr>\n",
       "      <th>0</th>\n",
       "      <td>Balboa Park</td>\n",
       "      <td>5.0</td>\n",
       "      <td>5</td>\n",
       "      <td>Balboa Park is a must see when coming to San D...</td>\n",
       "      <td>2105</td>\n",
       "      <td>1549 El Prado San Diego, CA 92101</td>\n",
       "    </tr>\n",
       "    <tr>\n",
       "      <th>1</th>\n",
       "      <td>Balboa Park</td>\n",
       "      <td>5.0</td>\n",
       "      <td>5</td>\n",
       "      <td>Beautiful grounds even to take a stroll during...</td>\n",
       "      <td>2105</td>\n",
       "      <td>1549 El Prado San Diego, CA 92101</td>\n",
       "    </tr>\n",
       "    <tr>\n",
       "      <th>2</th>\n",
       "      <td>Balboa Park</td>\n",
       "      <td>5.0</td>\n",
       "      <td>5</td>\n",
       "      <td>Beautiful sightseeing in San Diego. Lots of wa...</td>\n",
       "      <td>2105</td>\n",
       "      <td>1549 El Prado San Diego, CA 92101</td>\n",
       "    </tr>\n",
       "    <tr>\n",
       "      <th>3</th>\n",
       "      <td>Civita Park</td>\n",
       "      <td>4.5</td>\n",
       "      <td>5</td>\n",
       "      <td>Was invited to child's B-Day party pre Covid-1...</td>\n",
       "      <td>46</td>\n",
       "      <td>7960 Civita Blvd San Diego, CA 92108</td>\n",
       "    </tr>\n",
       "    <tr>\n",
       "      <th>4</th>\n",
       "      <td>Civita Park</td>\n",
       "      <td>4.5</td>\n",
       "      <td>5</td>\n",
       "      <td>Pretty nice park, beautiful design.  Anyone is...</td>\n",
       "      <td>46</td>\n",
       "      <td>7960 Civita Blvd San Diego, CA 92108</td>\n",
       "    </tr>\n",
       "  </tbody>\n",
       "</table>\n",
       "</div>"
      ],
      "text/plain": [
       "          name  avg_rating  personal_rating  \\\n",
       "0  Balboa Park         5.0                5   \n",
       "1  Balboa Park         5.0                5   \n",
       "2  Balboa Park         5.0                5   \n",
       "3  Civita Park         4.5                5   \n",
       "4  Civita Park         4.5                5   \n",
       "\n",
       "                                             comment  review_count  \\\n",
       "0  Balboa Park is a must see when coming to San D...          2105   \n",
       "1  Beautiful grounds even to take a stroll during...          2105   \n",
       "2  Beautiful sightseeing in San Diego. Lots of wa...          2105   \n",
       "3  Was invited to child's B-Day party pre Covid-1...            46   \n",
       "4  Pretty nice park, beautiful design.  Anyone is...            46   \n",
       "\n",
       "                                address  \n",
       "0     1549 El Prado San Diego, CA 92101  \n",
       "1     1549 El Prado San Diego, CA 92101  \n",
       "2     1549 El Prado San Diego, CA 92101  \n",
       "3  7960 Civita Blvd San Diego, CA 92108  \n",
       "4  7960 Civita Blvd San Diego, CA 92108  "
      ]
     },
     "execution_count": 8,
     "metadata": {},
     "output_type": "execute_result"
    }
   ],
   "source": [
    "#merge park names and park reviews\n",
    "df_park_and_review = pd.merge(df_park, df_park_review, on = 'name')\n",
    "df_park_and_review = df_park_and_review[['name', 'avg_rating', 'personal_rating', 'comment', 'review_count', 'address']]\n",
    "df_park_and_review.head()"
   ]
  },
  {
   "cell_type": "code",
   "execution_count": 9,
   "metadata": {},
   "outputs": [
    {
     "data": {
      "text/plain": [
       "name               0\n",
       "avg_rating         0\n",
       "personal_rating    0\n",
       "comment            0\n",
       "review_count       0\n",
       "address            0\n",
       "dtype: int64"
      ]
     },
     "execution_count": 9,
     "metadata": {},
     "output_type": "execute_result"
    }
   ],
   "source": [
    "#Check is there is missing value\n",
    "df_park_and_review.isnull().sum()"
   ]
  },
  {
   "cell_type": "markdown",
   "metadata": {},
   "source": [
    "# Data Analysis & Results"
   ]
  },
  {
   "cell_type": "markdown",
   "metadata": {},
   "source": [
    "Include cells that describe the steps in your data analysis."
   ]
  },
  {
   "cell_type": "code",
   "execution_count": 35,
   "metadata": {},
   "outputs": [
    {
     "data": {
      "text/plain": [
       "Text(0, 0.5, 'park rating')"
      ]
     },
     "execution_count": 35,
     "metadata": {},
     "output_type": "execute_result"
    },
    {
     "data": {
      "image/png": "[encoded data removed]",
      "text/plain": [
       "<Figure size 1224x504 with 1 Axes>"
      ]
     },
     "metadata": {
      "needs_background": "light"
     },
     "output_type": "display_data"
    }
   ],
   "source": [
    "plt.rcParams['figure.figsize'] = (17, 7)\n",
    "plt.rcParams.update({'font.size': 14})\n",
    "df_park_review.plot.scatter(x = 'review_count', y = 'avg_rating')\n",
    "plt.title('SD Park Ratings and Review Numbers', loc='left')\n",
    "plt.xlabel('review number')\n",
    "plt.ylabel('park rating')"
   ]
  },
  {
   "cell_type": "code",
   "execution_count": null,
   "metadata": {},
   "outputs": [],
   "source": []
  },
  {
   "cell_type": "code",
   "execution_count": 10,
   "metadata": {},
   "outputs": [
    {
     "name": "stdout",
     "output_type": "stream",
     "text": [
      "0       balboa park is a must see when coming to san d...\n",
      "1       beautiful grounds even to take a stroll during...\n",
      "2       beautiful sightseeing in san diego. lots of wa...\n",
      "3       was invited to child's b-day party pre covid-1...\n",
      "4       pretty nice park, beautiful design.  anyone is...\n",
      "                              ...                        \n",
      "2414    i have visited over 27 mlb ballparks including...\n",
      "2415    no grass here but it's a great dog park. if yo...\n",
      "2416    i love taking our cholate lab here, however, t...\n",
      "2417    pretty small dog park overall. the center of t...\n",
      "2418    super friendly staff! i always feel welcome an...\n",
      "Name: comment, Length: 2419, dtype: object\n"
     ]
    }
   ],
   "source": [
    "df_park_and_review['comment'] = df_park_and_review['comment'].str.lower()\n",
    "print(df_park_and_review['comment'])"
   ]
  },
  {
   "cell_type": "code",
   "execution_count": 11,
   "metadata": {},
   "outputs": [
    {
     "name": "stdout",
     "output_type": "stream",
     "text": [
      "['this', 'is', 'occasionally', 'one', 'of', 'my', 'favorite', 'places', 'to', 'go', '.', 'and', 'other', 'times', 'it', \"'s\", 'so', 'filled', 'with', 'homeless', 'people', 'and', 'riffraff', 'that', 'it', \"'s\", 'unsafe', 'to', 'explore', 'and', 'you', '...']\n"
     ]
    }
   ],
   "source": [
    "#tokenize the review\n",
    "df_park_and_review['review_token'] = df_park_and_review['comment'].apply(word_tokenize) \n",
    "\n",
    "print(df_park_and_review.loc[20,'review_token'])"
   ]
  },
  {
   "cell_type": "code",
   "execution_count": 12,
   "metadata": {},
   "outputs": [
    {
     "name": "stdout",
     "output_type": "stream",
     "text": [
      "['occasionally', 'one', 'favorite', 'places', 'go', '.', 'times', \"'s\", 'filled', 'homeless', 'people', 'riffraff', \"'s\", 'unsafe', 'explore', '...']\n"
     ]
    }
   ],
   "source": [
    "#remove stop words\n",
    "stop_words = set(stopwords.words('english'))\n",
    "df_park_and_review['review_stop'] = df_park_and_review['review_token'].apply(lambda x: [item for item in x if item not in stop_words])\n",
    "print(df_park_and_review.loc[20,'review_stop'])"
   ]
  },
  {
   "cell_type": "code",
   "execution_count": 13,
   "metadata": {},
   "outputs": [
    {
     "name": "stdout",
     "output_type": "stream",
     "text": [
      "{'should', 'no', 'i', 'such', 'few', 'doing', 'has', \"wasn't\", 'now', 's', 'out', 'through', 'm', 'y', 'why', 'having', 'did', 'ours', 'nor', 'wouldn', 'ain', \"didn't\", 'shan', 'before', 'than', 'by', \"weren't\", 'his', 'yourselves', \"should've\", \"couldn't\", 'between', 'other', 'aren', 'ma', 'most', 'hers', \"mustn't\", \"you're\", 'into', \"hadn't\", 'she', 'being', 'you', 'again', 'then', 'will', 'this', 'more', 'where', 'some', 'was', 'against', 'with', 'does', 'wasn', 'our', 'haven', 'and', 'until', 'same', \"haven't\", 'once', 'hasn', 'up', \"don't\", 'herself', 'own', 'that', 'shouldn', 'after', 'here', 'd', 'under', 'ourselves', 'your', 'an', 'very', 'how', 'as', 'mustn', 'what', 'hadn', \"hasn't\", 'isn', 'yours', 'didn', 'all', 'were', 'be', 'during', 'these', \"aren't\", 'those', 'or', 'doesn', 'me', 'them', 'not', 'any', 'are', 'from', 'theirs', 'below', 'they', 'who', 'him', 'my', 'just', 'do', 'which', \"isn't\", 'themselves', 'there', 'over', 'he', 'their', 'for', 'so', 'don', \"won't\", 'been', 'the', 'on', \"wouldn't\", 're', 'down', 'himself', 'off', \"you've\", 'of', 'weren', 'we', 'itself', 'too', 'only', 'won', \"shan't\", 'above', 'o', 'when', 'needn', \"mightn't\", 'have', 'mightn', 'am', 'if', 'her', 'll', 'its', \"it's\", 'at', \"needn't\", 'it', 'to', \"you'd\", 'a', 'but', 'myself', 'while', 've', 'because', \"doesn't\", 't', \"that'll\", \"you'll\", 'had', \"she's\", 'yourself', 'about', 'in', 'can', 'whom', 'couldn', 'both', 'each', \"shouldn't\", 'is', 'further'}\n"
     ]
    }
   ],
   "source": [
    "print(stop_words)"
   ]
  },
  {
   "cell_type": "code",
   "execution_count": 14,
   "metadata": {},
   "outputs": [],
   "source": [
    "list_of_unrelevant_words = ['...', 'park', \"'s\", \"n't\", \"'ve\", 'time', 'get']\n",
    "df_park_and_review['review_stop'] = df_park_and_review['review_stop'].apply(lambda x: [item for item in x if item not in list_of_unrelevant_words])"
   ]
  },
  {
   "cell_type": "code",
   "execution_count": 15,
   "metadata": {},
   "outputs": [
    {
     "data": {
      "text/plain": [
       "0       [balboa, must, see, come, san, diego, ., resid...\n",
       "1       [beauti, ground, even, take, stroll, covid, gr...\n",
       "2       [beauti, sightse, san, diego, ., lot, walkway,...\n",
       "3       [invit, child, b-day, parti, pre, covid-19, .,...\n",
       "4       [pretti, nice, ,, beauti, design, ., anyon, we...\n",
       "                              ...                        \n",
       "2414    [visit, 27, mlb, ballpark, includ, old, jack, ...\n",
       "2415    [grass, great, dog, ., white, dog, know, 'll, ...\n",
       "2416    [love, take, cholat, lab, ,, howev, ,, mulch, ...\n",
       "2417    [pretti, small, dog, overal, ., center, bit, c...\n",
       "2418    [super, friendli, staff, !, alway, feel, welco...\n",
       "Name: review_stem, Length: 2419, dtype: object"
      ]
     },
     "execution_count": 15,
     "metadata": {},
     "output_type": "execute_result"
    }
   ],
   "source": [
    "#stemming the review\n",
    "from nltk.stem import PorterStemmer\n",
    "\n",
    "ps = PorterStemmer()\n",
    "\n",
    "df_park_and_review['review_stem'] = df_park_and_review['review_stop'].apply(lambda x: [ps.stem(y) for y in x])\n",
    "df_park_and_review['review_stem']"
   ]
  },
  {
   "cell_type": "code",
   "execution_count": 16,
   "metadata": {},
   "outputs": [],
   "source": [
    "# get series of all words in comment after stemming\n",
    "comment_ready = df_park_and_review['review_stem'].apply(pd.Series).stack()"
   ]
  },
  {
   "cell_type": "code",
   "execution_count": 21,
   "metadata": {},
   "outputs": [
    {
     "name": "stdout",
     "output_type": "stream",
     "text": [
      "0     0        balboa\n",
      "      1          must\n",
      "      2           see\n",
      "      3          come\n",
      "      4           san\n",
      "              ...    \n",
      "2418  12       highli\n",
      "      13    recommend\n",
      "      14    fairbrook\n",
      "      15         farm\n",
      "      16            !\n",
      "Length: 41206, dtype: object\n"
     ]
    }
   ],
   "source": []
  },
  {
   "cell_type": "code",
   "execution_count": 17,
   "metadata": {},
   "outputs": [],
   "source": [
    "from nltk.probability import FreqDist\n",
    "import string\n",
    "\n",
    "# calculation word frequency\n",
    "comment_ready_freq = FreqDist(comment_ready)\n",
    "# remove punctuation counts\n",
    "for punc in string.punctuation:\n",
    "    del comment_ready_freq[punc]"
   ]
  },
  {
   "cell_type": "code",
   "execution_count": 18,
   "metadata": {},
   "outputs": [
    {
     "data": {
      "image/png": "[encoded data removed]",
      "text/plain": [
       "<Figure size 432x288 with 1 Axes>"
      ]
     },
     "metadata": {
      "needs_background": "light"
     },
     "output_type": "display_data"
    },
    {
     "data": {
      "text/plain": [
       "<matplotlib.axes._subplots.AxesSubplot at 0x1a25421310>"
      ]
     },
     "execution_count": 18,
     "metadata": {},
     "output_type": "execute_result"
    }
   ],
   "source": [
    "# Frequency Distribution Plot - top 20 for words in what students like most\n",
    "comment_ready_freq.plot(30, cumulative=False)"
   ]
  },
  {
   "cell_type": "code",
   "execution_count": 19,
   "metadata": {},
   "outputs": [],
   "source": [
    "list_of_unrelevant_words = ['...', 'I', 'park', 'the', 'place', 'it', 'my']\n",
    "empty = ''\n",
    "def delete_unrelevant_words(string):\n",
    "    for i in string:\n",
    "        if i in list_of_unrelevant_words:\n",
    "            i = empty"
   ]
  },
  {
   "cell_type": "code",
   "execution_count": 20,
   "metadata": {},
   "outputs": [
    {
     "data": {
      "text/plain": [
       "['as', 'my', 'dog']"
      ]
     },
     "execution_count": 20,
     "metadata": {},
     "output_type": "execute_result"
    }
   ],
   "source": [
    "ffff = ['as', 'my', 'dog']\n",
    "delete_unrelevant_words(ffff)\n",
    "ffff"
   ]
  },
  {
   "cell_type": "markdown",
   "metadata": {},
   "source": [
    "# Ethics & Privacy"
   ]
  },
  {
   "cell_type": "markdown",
   "metadata": {},
   "source": [
    "*Fill in your ethics & privacy discussion here*"
   ]
  },
  {
   "cell_type": "markdown",
   "metadata": {},
   "source": [
    "# Conclusion & Discussion"
   ]
  },
  {
   "cell_type": "markdown",
   "metadata": {},
   "source": [
    "*Fill in your discussion information here*"
   ]
  }
 ],
 "metadata": {
  "kernelspec": {
   "display_name": "Python 3",
   "language": "python",
   "name": "python3"
  },
  "language_info": {
   "codemirror_mode": {
    "name": "ipython",
    "version": 3
   },
   "file_extension": ".py",
   "mimetype": "text/x-python",
   "name": "python",
   "nbconvert_exporter": "python",
   "pygments_lexer": "ipython3",
   "version": "3.7.6"
  }
 },
 "nbformat": 4,
 "nbformat_minor": 2
}
