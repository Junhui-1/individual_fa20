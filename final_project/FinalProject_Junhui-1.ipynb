{
 "cells": [
  {
   "cell_type": "markdown",
   "metadata": {},
   "source": [
    "# COGS 108 - Final Project "
   ]
  },
  {
   "cell_type": "markdown",
   "metadata": {},
   "source": [
    "# Overview"
   ]
  },
  {
   "cell_type": "markdown",
   "metadata": {},
   "source": [
    "In this project, I identified the relationship between yelp comment numbers and yelp average ratings of San Diego parks. Using the Spearman Correlation, there is a weak, negative, and nonlinear correlation between the two variables. I also analyzed the key factors contributing to visitor satisfaction of SD parks. I conducted TF-IDF analysis and found that the opening state, safety, and playground spaces are important to visitor experience."
   ]
  },
  {
   "cell_type": "markdown",
   "metadata": {},
   "source": [
    "# Name & GitHub\n",
    "\n",
    "- Name: Junhui Fan\n",
    "- GitHub Username: Junhui-1"
   ]
  },
  {
   "cell_type": "markdown",
   "metadata": {},
   "source": [
    "# Research Question"
   ]
  },
  {
   "cell_type": "markdown",
   "metadata": {},
   "source": [
    "What is the relationship between yelp comment numbers and yelp ratings of San Diego parks? What factors of San Diego parks (e.g., facilities, staff) are important to visitor experience? "
   ]
  },
  {
   "cell_type": "markdown",
   "metadata": {},
   "source": [
    "## Background and Prior Work"
   ]
  },
  {
   "cell_type": "markdown",
   "metadata": {},
   "source": [
    "Parks, as public spaces, are used to serve people for playing, relaxing, communicating, and exercising. Providing satisfying experiences to visitors is regarded as an essential purpose for park managers. Therefore, factors that affect visitor experience should be measured so park managers can be directed to improve visitor satisfaction. McGuire and Dottavio (1989), using the post hoc method, studied three state parks in Montana and found that the upkeep of park facilities and ground and park staff are mostly attributed to visitor satisfaction. Fletcher and Fletcher (2003) conducted surveys of 25 parks in Florida and indicated that \"visitor satisfaction is strongly related to maintenance of the park and to behaviors of park personnel. The two research encourage me to hypothesize that the factors of SD parks influencing visitor experience should be similar to the factors concluded by them. \n",
    "\n",
    "Besides, the relationship between yelp review numbers and yelp average ratings are also worth considering. Review numbers and scores are often regarded as correlated. The number of online comments often indicates the quality of online merchandise (Arnould & Thompson). The number of comments on YouTube videos also demonstrates the quality of the videos (Siersdorfer, Nejdl & San Pedro). If parks have provided high-quality visitor experiences, visitors are expected to leave comments on social media to express their praise. Conversely, parks with lots of comments on social media should be an indicator to park reputation and quality. Therefore, I want to use yelp data to calculate the correlation between comment numbers and ratings of SD parks to test my hypothesis.\n",
    "\n",
    "\n",
    "References (include links):\n",
    "- 1) McGuire, F.A., O’Leary, J.T., & Dottavio, F.D. (1989). Journal of Park and Recreation Administration, 7(3), 24-33.\n",
    "\n",
    "- 2)Fletcher, Donna & Fletcher, Harold. (2003). Manageable Predictors of Park Visitor Satisfaction: Maintenance and Personnel. Journal of Park and Recreation Administration, 21(1), 21-37.\n",
    "http://staff.washington.edu/kwolf/Archive/Classes/ESRM304_SocSci/304%20Soc%20Sci%20Lab%20Articles/Fletcher_2003.pdf\n",
    "\n",
    "- 3)Arnould, E. and Thompson, C. (2005). Consumer culture theory (CCT): Twenty years of research. J. Consum. Resear. 31, 868--882.\n",
    "\n",
    "- 4)Siersdorfer, Stefan., Nejdl, Wolfgang & San Pedro, Jose. (2010). How useful are your comments? Analyzing and predicting YouTube comments and comment ratings. "
   ]
  },
  {
   "cell_type": "markdown",
   "metadata": {},
   "source": [
    "# Hypothesis\n"
   ]
  },
  {
   "cell_type": "markdown",
   "metadata": {},
   "source": [
    "I hypothesize that there is a positive correlation between yelp comment numbers and yelp ratings of SD parks. This is because the quality of parks is generally measured by the popularity of parks, and the popularity of parks is generally measured by the comment numbers.\n",
    "\n",
    "In addition, I hypothesize that the facilities, staff and maintenance of San Diego parks are key factors to visitor experience. Researches above investigated considerable amount of state parks and concluded park facilities, staff and maintenance are strongly related to visitor satisfication. Thus, I suppose my analysis of yelp review data of SD parks should generate similar results compared to the researches. "
   ]
  },
  {
   "cell_type": "markdown",
   "metadata": {},
   "source": [
    "# Dataset(s)"
   ]
  },
  {
   "cell_type": "markdown",
   "metadata": {},
   "source": [
    "The ideal dataset should include the following variables: names of SD parks, personal ratings of SD parks (based on self-administrated surveys questioning), and personal comments of SD parks (as answers to the open-ended question). The number of observations is expected to be 5000 or more. The observation subjects should be people who visited SD parks. The data would be designed and gathered by park staff. The data would be distributed through online surveys via email to people who visited SD parks. The data should be organized into csv/xml.\n",
    "\n",
    "The following datasets are provided by the instructor. They are from yelp endpoint.\n",
    "\n",
    "\n",
    "- Dataset Name: yelp_SD_parks\n",
    "- Link to the dataset: https://www.yelp.com/developers/documentation/v3/business_search\n",
    "- Number of observations: There are 833 parks in total.\n",
    "- Description: This data provides general information of San Diego parks, such as name and address, the average yelp rating for SD parks, and amount of review of SD parks.\n",
    "\n",
    "\n",
    "\n",
    "- Dataset Name: yelp_SD_reviews\n",
    "- Link to the dataset: https://www.yelp.com/developers/documentation/v3/business_reviews\n",
    "- Number of observations: There are 2333 reviews in total.\n",
    "- Description: This data provides SD park names, yelp user rating, and yelp user comment on SD parks."
   ]
  },
  {
   "cell_type": "markdown",
   "metadata": {},
   "source": [
    "# Setup"
   ]
  },
  {
   "cell_type": "code",
   "execution_count": 1,
   "metadata": {},
   "outputs": [],
   "source": [
    "# Imports\n",
    "%matplotlib inline\n",
    "\n",
    "import numpy as np\n",
    "import pandas as pd\n",
    "import matplotlib.pyplot as plt\n",
    "\n",
    "from scipy import stats\n",
    "\n",
    "# Import nltk package \n",
    "# PennTreeBank word tokenizer \n",
    "# English language stopwords\n",
    "import nltk\n",
    "from nltk.tokenize import word_tokenize\n",
    "from nltk.corpus import stopwords\n",
    "\n",
    "import warnings\n",
    "warnings.filterwarnings('ignore')\n",
    "\n",
    "# scikit-learn imports\n",
    "# TF-IDF Vectorizer that first removes widely used words in the dataset and then transforms test data\n",
    "\n",
    "from sklearn.feature_extraction.text import CountVectorizer, TfidfVectorizer\n",
    "\n",
    "# Setting the common figure size\n",
    "plt.rcParams['figure.figsize'] = (15, 5)\n",
    "plt.rcParams.update({'font.size': 14})"
   ]
  },
  {
   "cell_type": "code",
   "execution_count": 2,
   "metadata": {},
   "outputs": [],
   "source": [
    "# Read Data\n",
    "df_park = pd.read_csv('yelp_SD_parks.csv')\n",
    "df_park_comment = pd.read_csv('yelp_SD_reviews.csv')"
   ]
  },
  {
   "cell_type": "code",
   "execution_count": 3,
   "metadata": {},
   "outputs": [
    {
     "data": {
      "text/html": [
       "<div>\n",
       "<style scoped>\n",
       "    .dataframe tbody tr th:only-of-type {\n",
       "        vertical-align: middle;\n",
       "    }\n",
       "\n",
       "    .dataframe tbody tr th {\n",
       "        vertical-align: top;\n",
       "    }\n",
       "\n",
       "    .dataframe thead th {\n",
       "        text-align: right;\n",
       "    }\n",
       "</style>\n",
       "<table border=\"1\" class=\"dataframe\">\n",
       "  <thead>\n",
       "    <tr style=\"text-align: right;\">\n",
       "      <th></th>\n",
       "      <th>name</th>\n",
       "      <th>address</th>\n",
       "      <th>phone</th>\n",
       "      <th>id</th>\n",
       "      <th>url</th>\n",
       "      <th>rating</th>\n",
       "      <th>review_count</th>\n",
       "      <th>longitude</th>\n",
       "      <th>latitude</th>\n",
       "      <th>is_closed</th>\n",
       "    </tr>\n",
       "  </thead>\n",
       "  <tbody>\n",
       "    <tr>\n",
       "      <th>0</th>\n",
       "      <td>Balboa Park</td>\n",
       "      <td>1549 El Prado San Diego, CA 92101</td>\n",
       "      <td>1.619239e+10</td>\n",
       "      <td>9M_FW_-Ipx93I36w-_ykBg</td>\n",
       "      <td>https://www.yelp.com/biz/balboa-park-san-diego...</td>\n",
       "      <td>5.0</td>\n",
       "      <td>2105</td>\n",
       "      <td>-117.153150</td>\n",
       "      <td>32.734502</td>\n",
       "      <td>False</td>\n",
       "    </tr>\n",
       "    <tr>\n",
       "      <th>1</th>\n",
       "      <td>Civita Park</td>\n",
       "      <td>7960 Civita Blvd San Diego, CA 92108</td>\n",
       "      <td>NaN</td>\n",
       "      <td>3AEHjqNrTmggA6G9VdhQfg</td>\n",
       "      <td>https://www.yelp.com/biz/civita-park-san-diego...</td>\n",
       "      <td>4.5</td>\n",
       "      <td>46</td>\n",
       "      <td>-117.147278</td>\n",
       "      <td>32.778315</td>\n",
       "      <td>False</td>\n",
       "    </tr>\n",
       "    <tr>\n",
       "      <th>2</th>\n",
       "      <td>Waterfront Park</td>\n",
       "      <td>1600 Pacific Hwy San Diego, CA 92101</td>\n",
       "      <td>1.619233e+10</td>\n",
       "      <td>3unbJeYrn1RmInZGmjp80g</td>\n",
       "      <td>https://www.yelp.com/biz/waterfront-park-san-d...</td>\n",
       "      <td>4.5</td>\n",
       "      <td>242</td>\n",
       "      <td>-117.172479</td>\n",
       "      <td>32.721952</td>\n",
       "      <td>False</td>\n",
       "    </tr>\n",
       "    <tr>\n",
       "      <th>3</th>\n",
       "      <td>Trolley Barn Park</td>\n",
       "      <td>Adams Ave And Florida St San Diego, CA 92116</td>\n",
       "      <td>NaN</td>\n",
       "      <td>PvHxIYrmaiFKdWUDTMDzcg</td>\n",
       "      <td>https://www.yelp.com/biz/trolley-barn-park-san...</td>\n",
       "      <td>4.5</td>\n",
       "      <td>102</td>\n",
       "      <td>-117.143789</td>\n",
       "      <td>32.762463</td>\n",
       "      <td>False</td>\n",
       "    </tr>\n",
       "    <tr>\n",
       "      <th>4</th>\n",
       "      <td>Bay View Park</td>\n",
       "      <td>413 1st St Coronado, CA 92118</td>\n",
       "      <td>NaN</td>\n",
       "      <td>6IF4VB9-fkv_F-LBvG8ppQ</td>\n",
       "      <td>https://www.yelp.com/biz/bay-view-park-coronad...</td>\n",
       "      <td>5.0</td>\n",
       "      <td>42</td>\n",
       "      <td>-117.178967</td>\n",
       "      <td>32.701785</td>\n",
       "      <td>False</td>\n",
       "    </tr>\n",
       "  </tbody>\n",
       "</table>\n",
       "</div>"
      ],
      "text/plain": [
       "                name                                       address  \\\n",
       "0        Balboa Park             1549 El Prado San Diego, CA 92101   \n",
       "1        Civita Park          7960 Civita Blvd San Diego, CA 92108   \n",
       "2    Waterfront Park          1600 Pacific Hwy San Diego, CA 92101   \n",
       "3  Trolley Barn Park  Adams Ave And Florida St San Diego, CA 92116   \n",
       "4      Bay View Park                 413 1st St Coronado, CA 92118   \n",
       "\n",
       "          phone                      id  \\\n",
       "0  1.619239e+10  9M_FW_-Ipx93I36w-_ykBg   \n",
       "1           NaN  3AEHjqNrTmggA6G9VdhQfg   \n",
       "2  1.619233e+10  3unbJeYrn1RmInZGmjp80g   \n",
       "3           NaN  PvHxIYrmaiFKdWUDTMDzcg   \n",
       "4           NaN  6IF4VB9-fkv_F-LBvG8ppQ   \n",
       "\n",
       "                                                 url  rating  review_count  \\\n",
       "0  https://www.yelp.com/biz/balboa-park-san-diego...     5.0          2105   \n",
       "1  https://www.yelp.com/biz/civita-park-san-diego...     4.5            46   \n",
       "2  https://www.yelp.com/biz/waterfront-park-san-d...     4.5           242   \n",
       "3  https://www.yelp.com/biz/trolley-barn-park-san...     4.5           102   \n",
       "4  https://www.yelp.com/biz/bay-view-park-coronad...     5.0            42   \n",
       "\n",
       "    longitude   latitude  is_closed  \n",
       "0 -117.153150  32.734502      False  \n",
       "1 -117.147278  32.778315      False  \n",
       "2 -117.172479  32.721952      False  \n",
       "3 -117.143789  32.762463      False  \n",
       "4 -117.178967  32.701785      False  "
      ]
     },
     "execution_count": 3,
     "metadata": {},
     "output_type": "execute_result"
    }
   ],
   "source": [
    "df_park.head()"
   ]
  },
  {
   "cell_type": "code",
   "execution_count": 4,
   "metadata": {},
   "outputs": [
    {
     "data": {
      "text/html": [
       "<div>\n",
       "<style scoped>\n",
       "    .dataframe tbody tr th:only-of-type {\n",
       "        vertical-align: middle;\n",
       "    }\n",
       "\n",
       "    .dataframe tbody tr th {\n",
       "        vertical-align: top;\n",
       "    }\n",
       "\n",
       "    .dataframe thead th {\n",
       "        text-align: right;\n",
       "    }\n",
       "</style>\n",
       "<table border=\"1\" class=\"dataframe\">\n",
       "  <thead>\n",
       "    <tr style=\"text-align: right;\">\n",
       "      <th></th>\n",
       "      <th>id</th>\n",
       "      <th>rating</th>\n",
       "      <th>text</th>\n",
       "    </tr>\n",
       "  </thead>\n",
       "  <tbody>\n",
       "    <tr>\n",
       "      <th>0</th>\n",
       "      <td>Balboa Park</td>\n",
       "      <td>5</td>\n",
       "      <td>Balboa Park is a must see when coming to San D...</td>\n",
       "    </tr>\n",
       "    <tr>\n",
       "      <th>1</th>\n",
       "      <td>Balboa Park</td>\n",
       "      <td>5</td>\n",
       "      <td>Beautiful grounds even to take a stroll during...</td>\n",
       "    </tr>\n",
       "    <tr>\n",
       "      <th>2</th>\n",
       "      <td>Balboa Park</td>\n",
       "      <td>5</td>\n",
       "      <td>Beautiful sightseeing in San Diego. Lots of wa...</td>\n",
       "    </tr>\n",
       "    <tr>\n",
       "      <th>3</th>\n",
       "      <td>Civita Park</td>\n",
       "      <td>5</td>\n",
       "      <td>Was invited to child's B-Day party pre Covid-1...</td>\n",
       "    </tr>\n",
       "    <tr>\n",
       "      <th>4</th>\n",
       "      <td>Civita Park</td>\n",
       "      <td>5</td>\n",
       "      <td>Pretty nice park, beautiful design.  Anyone is...</td>\n",
       "    </tr>\n",
       "  </tbody>\n",
       "</table>\n",
       "</div>"
      ],
      "text/plain": [
       "            id  rating                                               text\n",
       "0  Balboa Park       5  Balboa Park is a must see when coming to San D...\n",
       "1  Balboa Park       5  Beautiful grounds even to take a stroll during...\n",
       "2  Balboa Park       5  Beautiful sightseeing in San Diego. Lots of wa...\n",
       "3  Civita Park       5  Was invited to child's B-Day party pre Covid-1...\n",
       "4  Civita Park       5  Pretty nice park, beautiful design.  Anyone is..."
      ]
     },
     "execution_count": 4,
     "metadata": {},
     "output_type": "execute_result"
    }
   ],
   "source": [
    "df_park_comment.head()"
   ]
  },
  {
   "cell_type": "markdown",
   "metadata": {},
   "source": [
    "# Data Cleaning"
   ]
  },
  {
   "cell_type": "markdown",
   "metadata": {},
   "source": [
    "I will rename variables, remove columns not needed for analysis and check if any needed columns has NaN value."
   ]
  },
  {
   "cell_type": "code",
   "execution_count": 5,
   "metadata": {},
   "outputs": [
    {
     "data": {
      "text/plain": [
       "name             0\n",
       "avg_rating       0\n",
       "comment_count    0\n",
       "dtype: int64"
      ]
     },
     "execution_count": 5,
     "metadata": {},
     "output_type": "execute_result"
    }
   ],
   "source": [
    "# Drop variables in df_park which I will not use\n",
    "df_park = df_park.drop(columns = ['phone', 'url', 'longitude', 'latitude', 'is_closed', 'id', 'address'])\n",
    "\n",
    "# Drop and rename variables in df_park for easier analysis\n",
    "df_park.rename(columns = {'rating': 'avg_rating', \n",
    "                                  'review_count' : 'comment_count'},inplace=True)\n",
    "\n",
    "# Check any missing value in df_park\n",
    "df_park.isnull().sum()"
   ]
  },
  {
   "cell_type": "markdown",
   "metadata": {},
   "source": [
    "There is no missing value in df_park."
   ]
  },
  {
   "cell_type": "code",
   "execution_count": 6,
   "metadata": {},
   "outputs": [
    {
     "data": {
      "text/html": [
       "<div>\n",
       "<style scoped>\n",
       "    .dataframe tbody tr th:only-of-type {\n",
       "        vertical-align: middle;\n",
       "    }\n",
       "\n",
       "    .dataframe tbody tr th {\n",
       "        vertical-align: top;\n",
       "    }\n",
       "\n",
       "    .dataframe thead th {\n",
       "        text-align: right;\n",
       "    }\n",
       "</style>\n",
       "<table border=\"1\" class=\"dataframe\">\n",
       "  <thead>\n",
       "    <tr style=\"text-align: right;\">\n",
       "      <th></th>\n",
       "      <th>name</th>\n",
       "      <th>avg_rating</th>\n",
       "      <th>comment_count</th>\n",
       "    </tr>\n",
       "  </thead>\n",
       "  <tbody>\n",
       "    <tr>\n",
       "      <th>0</th>\n",
       "      <td>Balboa Park</td>\n",
       "      <td>5.0</td>\n",
       "      <td>2105</td>\n",
       "    </tr>\n",
       "    <tr>\n",
       "      <th>1</th>\n",
       "      <td>Civita Park</td>\n",
       "      <td>4.5</td>\n",
       "      <td>46</td>\n",
       "    </tr>\n",
       "    <tr>\n",
       "      <th>2</th>\n",
       "      <td>Waterfront Park</td>\n",
       "      <td>4.5</td>\n",
       "      <td>242</td>\n",
       "    </tr>\n",
       "    <tr>\n",
       "      <th>3</th>\n",
       "      <td>Trolley Barn Park</td>\n",
       "      <td>4.5</td>\n",
       "      <td>102</td>\n",
       "    </tr>\n",
       "    <tr>\n",
       "      <th>4</th>\n",
       "      <td>Bay View Park</td>\n",
       "      <td>5.0</td>\n",
       "      <td>42</td>\n",
       "    </tr>\n",
       "  </tbody>\n",
       "</table>\n",
       "</div>"
      ],
      "text/plain": [
       "                name  avg_rating  comment_count\n",
       "0        Balboa Park         5.0           2105\n",
       "1        Civita Park         4.5             46\n",
       "2    Waterfront Park         4.5            242\n",
       "3  Trolley Barn Park         4.5            102\n",
       "4      Bay View Park         5.0             42"
      ]
     },
     "execution_count": 6,
     "metadata": {},
     "output_type": "execute_result"
    }
   ],
   "source": [
    "df_park.head()"
   ]
  },
  {
   "cell_type": "code",
   "execution_count": 7,
   "metadata": {},
   "outputs": [
    {
     "data": {
      "text/plain": [
       "park_name          0\n",
       "personal_rating    0\n",
       "comment            0\n",
       "dtype: int64"
      ]
     },
     "execution_count": 7,
     "metadata": {},
     "output_type": "execute_result"
    }
   ],
   "source": [
    "## YOUR CODE HERE\n",
    "# Rename variables in df_park_comment for easier analysis\n",
    "df_park_comment.rename(columns={'id': 'park_name', 'rating': 'personal_rating', 'text':'comment'}, inplace=True)\n",
    "\n",
    "# Check any missing value in df_park_comment\n",
    "df_park_comment.isnull().sum()"
   ]
  },
  {
   "cell_type": "markdown",
   "metadata": {},
   "source": [
    "There is no missing value in df_park_comment."
   ]
  },
  {
   "cell_type": "code",
   "execution_count": 8,
   "metadata": {},
   "outputs": [
    {
     "data": {
      "text/html": [
       "<div>\n",
       "<style scoped>\n",
       "    .dataframe tbody tr th:only-of-type {\n",
       "        vertical-align: middle;\n",
       "    }\n",
       "\n",
       "    .dataframe tbody tr th {\n",
       "        vertical-align: top;\n",
       "    }\n",
       "\n",
       "    .dataframe thead th {\n",
       "        text-align: right;\n",
       "    }\n",
       "</style>\n",
       "<table border=\"1\" class=\"dataframe\">\n",
       "  <thead>\n",
       "    <tr style=\"text-align: right;\">\n",
       "      <th></th>\n",
       "      <th>park_name</th>\n",
       "      <th>personal_rating</th>\n",
       "      <th>comment</th>\n",
       "    </tr>\n",
       "  </thead>\n",
       "  <tbody>\n",
       "    <tr>\n",
       "      <th>0</th>\n",
       "      <td>Balboa Park</td>\n",
       "      <td>5</td>\n",
       "      <td>Balboa Park is a must see when coming to San D...</td>\n",
       "    </tr>\n",
       "    <tr>\n",
       "      <th>1</th>\n",
       "      <td>Balboa Park</td>\n",
       "      <td>5</td>\n",
       "      <td>Beautiful grounds even to take a stroll during...</td>\n",
       "    </tr>\n",
       "    <tr>\n",
       "      <th>2</th>\n",
       "      <td>Balboa Park</td>\n",
       "      <td>5</td>\n",
       "      <td>Beautiful sightseeing in San Diego. Lots of wa...</td>\n",
       "    </tr>\n",
       "    <tr>\n",
       "      <th>3</th>\n",
       "      <td>Civita Park</td>\n",
       "      <td>5</td>\n",
       "      <td>Was invited to child's B-Day party pre Covid-1...</td>\n",
       "    </tr>\n",
       "    <tr>\n",
       "      <th>4</th>\n",
       "      <td>Civita Park</td>\n",
       "      <td>5</td>\n",
       "      <td>Pretty nice park, beautiful design.  Anyone is...</td>\n",
       "    </tr>\n",
       "  </tbody>\n",
       "</table>\n",
       "</div>"
      ],
      "text/plain": [
       "     park_name  personal_rating  \\\n",
       "0  Balboa Park                5   \n",
       "1  Balboa Park                5   \n",
       "2  Balboa Park                5   \n",
       "3  Civita Park                5   \n",
       "4  Civita Park                5   \n",
       "\n",
       "                                             comment  \n",
       "0  Balboa Park is a must see when coming to San D...  \n",
       "1  Beautiful grounds even to take a stroll during...  \n",
       "2  Beautiful sightseeing in San Diego. Lots of wa...  \n",
       "3  Was invited to child's B-Day party pre Covid-1...  \n",
       "4  Pretty nice park, beautiful design.  Anyone is...  "
      ]
     },
     "execution_count": 8,
     "metadata": {},
     "output_type": "execute_result"
    }
   ],
   "source": [
    "df_park_comment.head()"
   ]
  },
  {
   "cell_type": "markdown",
   "metadata": {},
   "source": [
    "# Data Analysis & Results"
   ]
  },
  {
   "cell_type": "markdown",
   "metadata": {},
   "source": [
    "I will first observe the description of df_park, knowing if the distributions of yelp average rating and yelp comment numbers are normal. If the two distributions are normal, I can apply Pearson Correlation test."
   ]
  },
  {
   "cell_type": "code",
   "execution_count": 9,
   "metadata": {},
   "outputs": [
    {
     "data": {
      "text/html": [
       "<div>\n",
       "<style scoped>\n",
       "    .dataframe tbody tr th:only-of-type {\n",
       "        vertical-align: middle;\n",
       "    }\n",
       "\n",
       "    .dataframe tbody tr th {\n",
       "        vertical-align: top;\n",
       "    }\n",
       "\n",
       "    .dataframe thead th {\n",
       "        text-align: right;\n",
       "    }\n",
       "</style>\n",
       "<table border=\"1\" class=\"dataframe\">\n",
       "  <thead>\n",
       "    <tr style=\"text-align: right;\">\n",
       "      <th></th>\n",
       "      <th>avg_rating</th>\n",
       "      <th>comment_count</th>\n",
       "    </tr>\n",
       "  </thead>\n",
       "  <tbody>\n",
       "    <tr>\n",
       "      <th>count</th>\n",
       "      <td>833.000000</td>\n",
       "      <td>833.000000</td>\n",
       "    </tr>\n",
       "    <tr>\n",
       "      <th>mean</th>\n",
       "      <td>4.039616</td>\n",
       "      <td>201.246098</td>\n",
       "    </tr>\n",
       "    <tr>\n",
       "      <th>std</th>\n",
       "      <td>0.796396</td>\n",
       "      <td>744.775857</td>\n",
       "    </tr>\n",
       "    <tr>\n",
       "      <th>min</th>\n",
       "      <td>1.000000</td>\n",
       "      <td>1.000000</td>\n",
       "    </tr>\n",
       "    <tr>\n",
       "      <th>25%</th>\n",
       "      <td>3.500000</td>\n",
       "      <td>6.000000</td>\n",
       "    </tr>\n",
       "    <tr>\n",
       "      <th>50%</th>\n",
       "      <td>4.000000</td>\n",
       "      <td>22.000000</td>\n",
       "    </tr>\n",
       "    <tr>\n",
       "      <th>75%</th>\n",
       "      <td>4.500000</td>\n",
       "      <td>109.000000</td>\n",
       "    </tr>\n",
       "    <tr>\n",
       "      <th>max</th>\n",
       "      <td>5.000000</td>\n",
       "      <td>14195.000000</td>\n",
       "    </tr>\n",
       "  </tbody>\n",
       "</table>\n",
       "</div>"
      ],
      "text/plain": [
       "       avg_rating  comment_count\n",
       "count  833.000000     833.000000\n",
       "mean     4.039616     201.246098\n",
       "std      0.796396     744.775857\n",
       "min      1.000000       1.000000\n",
       "25%      3.500000       6.000000\n",
       "50%      4.000000      22.000000\n",
       "75%      4.500000     109.000000\n",
       "max      5.000000   14195.000000"
      ]
     },
     "execution_count": 9,
     "metadata": {},
     "output_type": "execute_result"
    }
   ],
   "source": [
    "# Observe the shape of df_park\n",
    "df_park.describe()"
   ]
  },
  {
   "cell_type": "code",
   "execution_count": 10,
   "metadata": {},
   "outputs": [
    {
     "data": {
      "text/plain": [
       "Text(0, 0.5, 'Frequency')"
      ]
     },
     "execution_count": 10,
     "metadata": {},
     "output_type": "execute_result"
    },
    {
     "data": {
      "image/png": "[encoded data removed]",
      "text/plain": [
       "<Figure size 1080x360 with 1 Axes>"
      ]
     },
     "metadata": {
      "needs_background": "light"
     },
     "output_type": "display_data"
    }
   ],
   "source": [
    "# Plot histograms of df_park to the distribution of each variable.\n",
    "df_park['avg_rating'].hist()\n",
    "plt.title('Yelp average ratings of SD parks', loc='left')\n",
    "plt.xlabel('Average ratings')\n",
    "plt.ylabel('Frequency')"
   ]
  },
  {
   "cell_type": "markdown",
   "metadata": {},
   "source": [
    "Above is the histogram of yelp average ratings of SD parks. The histogram is very skewed."
   ]
  },
  {
   "cell_type": "code",
   "execution_count": 11,
   "metadata": {},
   "outputs": [
    {
     "data": {
      "text/plain": [
       "Text(0, 0.5, 'Frequency')"
      ]
     },
     "execution_count": 11,
     "metadata": {},
     "output_type": "execute_result"
    },
    {
     "data": {
      "image/png": "[encoded data removed]",
      "text/plain": [
       "<Figure size 1080x360 with 1 Axes>"
      ]
     },
     "metadata": {
      "needs_background": "light"
     },
     "output_type": "display_data"
    }
   ],
   "source": [
    "# Plot histograms of df_park to the distribution of each variable.\n",
    "df_park['comment_count'].hist()\n",
    "plt.title('Yelp comment numbers of SD parks', loc='left')\n",
    "plt.xlabel('Comment numbers')\n",
    "plt.ylabel('Frequency')"
   ]
  },
  {
   "cell_type": "markdown",
   "metadata": {},
   "source": [
    "Above is the histogram of yelp average ratings of SD parks. The histogram is very skewed."
   ]
  },
  {
   "cell_type": "markdown",
   "metadata": {},
   "source": [
    "The distribution of each variable is very skewed. Transforming data into log does not help. Thus, the Pearson Correlation (requiring normal distributions of the two variables) cannot be used. Instead, the Spearman Correlation test is suited for the skewed variables."
   ]
  },
  {
   "cell_type": "code",
   "execution_count": 12,
   "metadata": {},
   "outputs": [
    {
     "data": {
      "text/plain": [
       "Text(0, 0.5, 'Average ratings')"
      ]
     },
     "execution_count": 12,
     "metadata": {},
     "output_type": "execute_result"
    },
    {
     "data": {
      "image/png": "[encoded data removed]",
      "text/plain": [
       "<Figure size 1080x360 with 1 Axes>"
      ]
     },
     "metadata": {
      "needs_background": "light"
     },
     "output_type": "display_data"
    }
   ],
   "source": [
    "# Draw a scatterplot to observe the correlation between average rating and comment numbers in df_park\n",
    "df_park.plot.scatter(x = 'comment_count', y = 'avg_rating')\n",
    "plt.title('Yelp average ratings and comment numbers of SD parks', loc='left')\n",
    "plt.xlabel('Comment numbers')\n",
    "plt.ylabel('Average ratings')"
   ]
  },
  {
   "cell_type": "markdown",
   "metadata": {},
   "source": [
    "Above is the scatterplot of the two variables. The relationship between the two variables is hard to visualize. The Spearman Correlation will be conducted."
   ]
  },
  {
   "cell_type": "code",
   "execution_count": 13,
   "metadata": {},
   "outputs": [
    {
     "data": {
      "text/plain": [
       "SpearmanrResult(correlation=-0.12004392436484494, pvalue=0.0005165261065135084)"
      ]
     },
     "execution_count": 13,
     "metadata": {},
     "output_type": "execute_result"
    }
   ],
   "source": [
    "# Calculate Spearman Correlation\n",
    "stats.spearmanr(df_park['comment_count'], df_park['avg_rating'])"
   ]
  },
  {
   "cell_type": "markdown",
   "metadata": {},
   "source": [
    "The Spearman Correlation is negative, and its P-value < 0.05 is effective to reject the null hypothesis. This shows that the comment numbers and ratings for SD parks have a weak, negative, and nonlinear correlation, according to yelp data. "
   ]
  },
  {
   "cell_type": "markdown",
   "metadata": {},
   "source": [
    "I will then use TF-IDF to analyze key words of the park comments."
   ]
  },
  {
   "cell_type": "code",
   "execution_count": 14,
   "metadata": {},
   "outputs": [
    {
     "data": {
      "image/png": "[encoded data removed]",
      "text/plain": [
       "<Figure size 1080x360 with 1 Axes>"
      ]
     },
     "metadata": {
      "needs_background": "light"
     },
     "output_type": "display_data"
    }
   ],
   "source": [
    "# Calculate TF-IDF of all comments\n",
    "stop_words = nltk.corpus.stopwords.words('english')\n",
    "comment_list = list(df_park_comment['comment'])\n",
    "\n",
    "# Initialize a TFIDF object\n",
    "tfIdfVectorizer=TfidfVectorizer(analyzer='word',\n",
    "                                stop_words = stop_words,\n",
    "                                max_df = 0.11,\n",
    "                                min_df = 0,\n",
    "                                strip_accents = 'unicode',\n",
    "                        sublinear_tf=True,\n",
    "                        max_features=4000,\n",
    "                        tokenizer=nltk.word_tokenize)\n",
    "tfIdf_all = tfIdfVectorizer.fit_transform(comment_list)\n",
    "\n",
    "# Create a dataframe\n",
    "df_all = pd.DataFrame(tfIdf_all[0].T.todense(), index=tfIdfVectorizer.get_feature_names(), columns=[\"TF-IDF\"])\n",
    "\n",
    "# Reset column names\n",
    "df_all['word']=df_all.index\n",
    "df_all = df_all.reset_index(drop=True)\n",
    "df_all = df_all[['word', 'TF-IDF']]\n",
    "df_all = df_all.sort_values('TF-IDF', ascending=False)\n",
    "\n",
    "# Plot TF-IDF graph\n",
    "ax = df_all[0:15].plot(x = 'word', y = 'TF-IDF', kind='barh' )\n",
    "plt.title('TF-IDF Scores of all yelp park comments', loc='left')\n",
    "plt.xlabel('TF-IDF scores')\n",
    "plt.ylabel('key words')\n",
    "plt.gca().invert_yaxis()"
   ]
  },
  {
   "cell_type": "markdown",
   "metadata": {},
   "source": [
    "Above is the TF-IDF Scores of all yelp park comments. The greater the TF-IDF scores, the more important the word in all comments."
   ]
  },
  {
   "cell_type": "markdown",
   "metadata": {},
   "source": [
    "The TF-IDF Scores of all yelp park comments tell little information about factors contributing to visitor satisfaction. The key words appeared here are mainly verbs and emotional words."
   ]
  },
  {
   "cell_type": "code",
   "execution_count": 15,
   "metadata": {},
   "outputs": [
    {
     "data": {
      "image/png": "[encoded data removed]",
      "text/plain": [
       "<Figure size 1080x360 with 1 Axes>"
      ]
     },
     "metadata": {
      "needs_background": "light"
     },
     "output_type": "display_data"
    }
   ],
   "source": [
    "# Calculate TF-IDF of positive comments\n",
    "df_comment_pos = df_park_comment[df_park_comment['personal_rating'] >= 4]\n",
    "comment_list_pos = list(df_comment_pos['comment'])\n",
    "\n",
    "# Create a dataframe\n",
    "tfIdf_pos = tfIdfVectorizer.fit_transform(comment_list_pos)\n",
    "df_pos = pd.DataFrame(tfIdf_pos[0].T.todense(), index=tfIdfVectorizer.get_feature_names(), columns=[\"TF-IDF\"])\n",
    "df_pos = df_pos.sort_values('TF-IDF', ascending=False)\n",
    "\n",
    "# Reset column names\n",
    "df_pos['word']=df_pos.index\n",
    "df_pos = df_pos.reset_index(drop=True)\n",
    "df_pos = df_pos[['word', 'TF-IDF']]\n",
    "\n",
    "# Plot TF-IDF graph\n",
    "ax = df_pos[0:15].plot(x = 'word', y = 'TF-IDF', kind='barh' )\n",
    "plt.title('TF-IDF frequency', loc='left')\n",
    "plt.xlabel('TF-IDF')\n",
    "plt.ylabel('word')\n",
    "plt.gca().invert_yaxis()"
   ]
  },
  {
   "cell_type": "markdown",
   "metadata": {},
   "source": [
    "Above is the TF-IDF Scores of all positive yelp park comments. The greater the TF-IDF scores, the more important the word in all positive comments."
   ]
  },
  {
   "cell_type": "markdown",
   "metadata": {},
   "source": [
    "The TF-IDF Scores of positive yelp park comments also tell little information about factors contributing to visitor satisfaction. The key words appeared here are mainly verbs and emotional words."
   ]
  },
  {
   "cell_type": "code",
   "execution_count": 16,
   "metadata": {},
   "outputs": [
    {
     "data": {
      "image/png": "[encoded data removed]",
      "text/plain": [
       "<Figure size 1080x360 with 1 Axes>"
      ]
     },
     "metadata": {
      "needs_background": "light"
     },
     "output_type": "display_data"
    }
   ],
   "source": [
    "# Calculate TF-IDF of negative comments\n",
    "df_comment_neg = df_park_comment[df_park_comment['personal_rating'] <= 2]\n",
    "comment_list_neg = list(df_comment_neg['comment'])\n",
    "\n",
    "# Create a dataframe\n",
    "tfIdf_neg = tfIdfVectorizer.fit_transform(comment_list_neg)\n",
    "df_neg = pd.DataFrame(tfIdf_neg[0].T.todense(), index=tfIdfVectorizer.get_feature_names(), columns=[\"TF-IDF\"])\n",
    "\n",
    "# Reset column names\n",
    "df_neg['word']=df_neg.index\n",
    "df_neg = df_neg.reset_index(drop=True)\n",
    "df_neg = df_neg[['word', 'TF-IDF']]\n",
    "df_neg = df_neg.sort_values('TF-IDF', ascending=False)\n",
    "\n",
    "# Plot TF-IDF graph\n",
    "ax = df_neg[0:15].plot(x = 'word', y = 'TF-IDF', kind='barh' )\n",
    "plt.title('TF-IDF frequency', loc='left')\n",
    "plt.xlabel('TF-IDF')\n",
    "plt.ylabel('word')\n",
    "plt.gca().invert_yaxis()"
   ]
  },
  {
   "cell_type": "markdown",
   "metadata": {},
   "source": [
    "Above is the TF-IDF Scores of all negative yelp park comments. The greater the TF-IDF scores, the more important the word in all nagative comments."
   ]
  },
  {
   "cell_type": "markdown",
   "metadata": {},
   "source": [
    "The TF-IDF Scores of negative yelp park comments convey useful information. Words \"safety\", \"open\" and \"playground\" are key factors toward visitor unsatisfaction."
   ]
  },
  {
   "cell_type": "markdown",
   "metadata": {},
   "source": [
    "# Ethics & Privacy"
   ]
  },
  {
   "cell_type": "markdown",
   "metadata": {},
   "source": [
    "The two yelp data are available to the public, so removing personal information is needed. For the yelp comment data, any personal information has been removed before I obtain the data; the variables left are only park ids, yelp user ratings, and yelp user comments. For the yelp park data, park addresses, contact phones, and websites are regarded as public information. As this project does not need them, they are dropped for convenience. Therefore, the worry about privacy for the datasets is scarcely any. \n",
    "\n",
    "Regarding the samples of the two datasets, there is sampling bias in yelp comments and ratings. Yelp reviews and ratings are not representative samples for the entire population (people who visited SD parks). Some people may have satisfactions or dissatisfactions about the SD parks but do not leave comments and ratings on yelp. The bias for voluntarily online comments is unavoidable, and analyzing the data may not accurately demonstrate true results. If applicable, the datasets should be gathered by online surveys clearly asking about factors that influence visitor experience. The yelp park comments are not highly reliable to analyze factors that affect visitor satisfaction.\n",
    "\n",
    "In addition, interpreting the results of my analysis should be taken into consideration. The data represents SD park ratings and reviews on yelp, instead of the park ratings and reviews all over the country or on all social media platforms.  As a result, my analysis is only applicable to SD parks and reviews on yelp. Any extended application is misleading and inconclusive, which is unethical. "
   ]
  },
  {
   "cell_type": "markdown",
   "metadata": {},
   "source": [
    "# Conclusion & Discussion"
   ]
  },
  {
   "cell_type": "markdown",
   "metadata": {},
   "source": [
    "In this project, I hypothesized that there is a positive correlation between yelp comment numbers and yelp ratings of SD parks, and I hypothesized the facilities, staff, and maintenance of San Diego parks are key factors to the visitor experience.\n",
    "\n",
    "By using the Spearman Correlation test, I concluded that there is a weak, negative, and nonlinear correlation between the yelp comment numbers and yelp ratings for SD parks. Secondly, by using TF-IDF, I found that the key factors influencing visitor experience are safety, playground space, and the opening state of SD parks. None of the results supports my hypotheses, which may be due to several limitations from the data and my analysis method. Firstly, yelp data is not completely collected. The Yelp API has limitations on reviews obtained, so I did not get complete comments. Secondly, the yelp park comments are not very suitable to analyze factors influencing visitor experience. A dataset of online surveys should be better because surveys clearly ask subjects to evaluate factors affecting visitor experience. Thirdly, the TF-IDF analysis, if ideally, would filter words that are irrelevant to analyzing the factors. Limited by personal ability, I did not exclude the irrelevant words. The TF-IDF could have demonstrated more factors that influence visitor experience. "
   ]
  }
 ],
 "metadata": {
  "kernelspec": {
   "display_name": "Python 3",
   "language": "python",
   "name": "python3"
  },
  "language_info": {
   "codemirror_mode": {
    "name": "ipython",
    "version": 3
   },
   "file_extension": ".py",
   "mimetype": "text/x-python",
   "name": "python",
   "nbconvert_exporter": "python",
   "pygments_lexer": "ipython3",
   "version": "3.7.6"
  }
 },
 "nbformat": 4,
 "nbformat_minor": 2
}
